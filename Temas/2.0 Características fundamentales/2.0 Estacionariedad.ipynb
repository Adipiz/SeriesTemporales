{
 "cells": [
  {
   "cell_type": "markdown",
   "id": "bbda678b",
   "metadata": {},
   "source": [
    "# Estacionariedad\n",
    "\n",
    "\n",
    "### Item 1\n",
    "\n",
    "Una serie es *Estacionaria* a lo largo del tiempo cuando la **media** y la  **varianza** son constantes en el tiempo y, además, no presenta tendencia. Por el contrario, una serie temporal no es estacionaria si su **tendencia y/o variabilidad** cambian en el tiempo. Los cambios en la media determinan una tendencia a crecer o decrecer a largo plazo por lo que no oscilaría alrededor de un valor constante.\n",
    "\n",
    "Si una serie es estacionaria, implica que,\n",
    "$$\\mu: Media \\ constante$$\n",
    "\n",
    "$$\\sigma^2: Varianza \\ constante$$\n",
    "\n",
    "Ahora si tomamos dos secuencias de igual cantidad de datos consecutivos($S_1$ y $S_2$), obtendremos que:\n",
    "\n",
    "$$ Cov(S_1) = Cov(S_2)$$\n",
    "\n",
    "Esta característica se conoce como *estacionariedad en covarianza*.\n",
    "\n",
    "  - El ruido blanco satisface las tres condiciones. \n",
    "      - $\\mu: media \\ constante$, $\\sigma^2 \\ constante$ y $cov(x_n,x_{n+k})=corr(x_n,x_{n+k})\\sigma_n \\sigma_{n+k}$\n",
    "  \n",
    "\n",
    "Por otro lado, *Estacionariedad estricta* se refiere a que dos muestras de una misma serie tendrán la **misma covarianza** y **misma distribución**.\n",
    "\n",
    "$$(x_{t+\\tau}, x_{t+k+\\tau})\\sim Dist(\\mu, \\sigma^2)$$\n",
    "\n",
    "$$(x_{t+ \\tau}, x_{t+k+\\tau})\\sim Dist(\\mu, \\sigma^2)$$\n",
    "\n",
    "\n",
    "### Item 2 (mejorar explicación de la prueba)\n",
    "\n",
    "En el análisis de series de tiempo es indispensable corroborar si los datos provienen de un proceso estacionario o no. En este contexto David Dickey y Wayne Fuller desarrollaron una prueba para ayudar. Esta prueba se conoce como Dickey-Fuller.\n",
    "\n",
    "Está basada en un contraste de hipótesis donde:\n",
    "\n",
    "$H_0: la\\ serie\\ no\\ es\\ estacionaria$ o  $H_0: \\varphi = 1 $\n",
    "\n",
    "$H_1: la\\ serie\\ es\\ estacionaria$ o $H_0: \\varphi < 1 $\n",
    "\n",
    "\n",
    "donde $\\varphi$ corresponde al coeficiente de autocorrelación o el coeficiente corrlación entre dos valores de una serie temporal. \n",
    "La función de autocorrelación con $k$ retrasos.\n",
    "$$\\varphi_k = corr(x_t, x_{t-k})$$\n",
    "\n",
    "SEguidamente se calcula el valor de un estadístico $\\lambda_0$ que depende de la muestra. Este se compara con un valor crítico $\\lambda_{crit}$. Si $\\lambda_0 < \\lambda_{crit}$ se rechaza la $Ho$ y se acepta que la serie es estacionaria.\n",
    "\n",
    "Con $p-value$ menores al nivel de significación $\\alpha$ se rechaza la $H_0$"
   ]
  },
  {
   "cell_type": "code",
   "execution_count": null,
   "id": "bc21b706",
   "metadata": {},
   "outputs": [],
   "source": []
  }
 ],
 "metadata": {
  "kernelspec": {
   "display_name": "Python 3",
   "language": "python",
   "name": "python3"
  },
  "language_info": {
   "codemirror_mode": {
    "name": "ipython",
    "version": 3
   },
   "file_extension": ".py",
   "mimetype": "text/x-python",
   "name": "python",
   "nbconvert_exporter": "python",
   "pygments_lexer": "ipython3",
   "version": "3.8.8"
  }
 },
 "nbformat": 4,
 "nbformat_minor": 5
}
