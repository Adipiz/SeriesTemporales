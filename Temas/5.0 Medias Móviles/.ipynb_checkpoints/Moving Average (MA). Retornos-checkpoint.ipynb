{
 "cells": [
  {
   "cell_type": "markdown",
   "id": "c2fdb22d",
   "metadata": {},
   "source": [
    "# MA Model: Returns"
   ]
  },
  {
   "cell_type": "code",
   "execution_count": 51,
   "id": "205444b8",
   "metadata": {},
   "outputs": [
    {
     "data": {
      "text/plain": [
       "<function seaborn.rcmod.set(*args, **kwargs)>"
      ]
     },
     "execution_count": 51,
     "metadata": {},
     "output_type": "execute_result"
    }
   ],
   "source": [
    "# Libraries\n",
    "\n",
    "import pandas as pd\n",
    "import numpy as np\n",
    "\n",
    "import matplotlib.pyplot as plt\n",
    "\n",
    "import statsmodels.graphics.tsaplots as sgt \n",
    "import statsmodels.tsa.stattools as sts\n",
    "from statsmodels.tsa.arima_model import ARMA\n",
    "\n",
    "from scipy.stats.distributions import chi2\n",
    "from math import sqrt\n",
    "\n",
    "import seaborn as sns\n",
    "\n",
    "sns.set"
   ]
  },
  {
   "cell_type": "code",
   "execution_count": 52,
   "id": "3841407a",
   "metadata": {},
   "outputs": [],
   "source": [
    "# Importing Dataset\n",
    "\n",
    "rawCsvData = pd.read_csv(\"../../DataSets/Index2018.csv\") \n",
    "\n",
    "dfComp=rawCsvData.copy()\n",
    "\n",
    "# Pre-processing data\n",
    "\n",
    " # Date\n",
    "dfComp.date = pd.to_datetime(dfComp.date, dayfirst = True)\n",
    "\n",
    " # Fixing index\n",
    "dfComp.set_index(\"date\", inplace = True)\n",
    "\n",
    " # Frequency \n",
    "dfComp = dfComp.asfreq('b')\n",
    "\n",
    " # df\n",
    "dfComp = dfComp.fillna(method = 'ffill')"
   ]
  },
  {
   "cell_type": "code",
   "execution_count": 53,
   "id": "8b828387",
   "metadata": {},
   "outputs": [
    {
     "data": {
      "text/html": [
       "<div>\n",
       "<style scoped>\n",
       "    .dataframe tbody tr th:only-of-type {\n",
       "        vertical-align: middle;\n",
       "    }\n",
       "\n",
       "    .dataframe tbody tr th {\n",
       "        vertical-align: top;\n",
       "    }\n",
       "\n",
       "    .dataframe thead th {\n",
       "        text-align: right;\n",
       "    }\n",
       "</style>\n",
       "<table border=\"1\" class=\"dataframe\">\n",
       "  <thead>\n",
       "    <tr style=\"text-align: right;\">\n",
       "      <th></th>\n",
       "      <th>spx</th>\n",
       "      <th>dax</th>\n",
       "      <th>ftse</th>\n",
       "      <th>nikkei</th>\n",
       "      <th>marketValue</th>\n",
       "    </tr>\n",
       "    <tr>\n",
       "      <th>date</th>\n",
       "      <th></th>\n",
       "      <th></th>\n",
       "      <th></th>\n",
       "      <th></th>\n",
       "      <th></th>\n",
       "    </tr>\n",
       "  </thead>\n",
       "  <tbody>\n",
       "    <tr>\n",
       "      <th>1994-01-07</th>\n",
       "      <td>469.90</td>\n",
       "      <td>2224.95</td>\n",
       "      <td>3445.98</td>\n",
       "      <td>18124.01</td>\n",
       "      <td>3445.98</td>\n",
       "    </tr>\n",
       "    <tr>\n",
       "      <th>1994-01-10</th>\n",
       "      <td>475.27</td>\n",
       "      <td>2225.00</td>\n",
       "      <td>3440.58</td>\n",
       "      <td>18443.44</td>\n",
       "      <td>3440.58</td>\n",
       "    </tr>\n",
       "    <tr>\n",
       "      <th>1994-01-11</th>\n",
       "      <td>474.13</td>\n",
       "      <td>2228.10</td>\n",
       "      <td>3413.77</td>\n",
       "      <td>18485.25</td>\n",
       "      <td>3413.77</td>\n",
       "    </tr>\n",
       "    <tr>\n",
       "      <th>1994-01-12</th>\n",
       "      <td>474.17</td>\n",
       "      <td>2182.06</td>\n",
       "      <td>3372.02</td>\n",
       "      <td>18793.88</td>\n",
       "      <td>3372.02</td>\n",
       "    </tr>\n",
       "    <tr>\n",
       "      <th>1994-01-13</th>\n",
       "      <td>472.47</td>\n",
       "      <td>2142.37</td>\n",
       "      <td>3360.01</td>\n",
       "      <td>18577.26</td>\n",
       "      <td>3360.01</td>\n",
       "    </tr>\n",
       "  </tbody>\n",
       "</table>\n",
       "</div>"
      ],
      "text/plain": [
       "               spx      dax     ftse    nikkei  marketValue\n",
       "date                                                       \n",
       "1994-01-07  469.90  2224.95  3445.98  18124.01      3445.98\n",
       "1994-01-10  475.27  2225.00  3440.58  18443.44      3440.58\n",
       "1994-01-11  474.13  2228.10  3413.77  18485.25      3413.77\n",
       "1994-01-12  474.17  2182.06  3372.02  18793.88      3372.02\n",
       "1994-01-13  472.47  2142.37  3360.01  18577.26      3360.01"
      ]
     },
     "execution_count": 53,
     "metadata": {},
     "output_type": "execute_result"
    }
   ],
   "source": [
    "# creating a copy of ftse column\n",
    "dfComp['marketValue'] = dfComp.ftse\n",
    "dfComp.head()"
   ]
  },
  {
   "cell_type": "code",
   "execution_count": 54,
   "id": "cafd9dec",
   "metadata": {},
   "outputs": [
    {
     "data": {
      "text/html": [
       "<div>\n",
       "<style scoped>\n",
       "    .dataframe tbody tr th:only-of-type {\n",
       "        vertical-align: middle;\n",
       "    }\n",
       "\n",
       "    .dataframe tbody tr th {\n",
       "        vertical-align: top;\n",
       "    }\n",
       "\n",
       "    .dataframe thead th {\n",
       "        text-align: right;\n",
       "    }\n",
       "</style>\n",
       "<table border=\"1\" class=\"dataframe\">\n",
       "  <thead>\n",
       "    <tr style=\"text-align: right;\">\n",
       "      <th></th>\n",
       "      <th>marketValue</th>\n",
       "    </tr>\n",
       "    <tr>\n",
       "      <th>date</th>\n",
       "      <th></th>\n",
       "    </tr>\n",
       "  </thead>\n",
       "  <tbody>\n",
       "    <tr>\n",
       "      <th>1994-01-07</th>\n",
       "      <td>3445.980000</td>\n",
       "    </tr>\n",
       "    <tr>\n",
       "      <th>1994-01-10</th>\n",
       "      <td>3440.580000</td>\n",
       "    </tr>\n",
       "    <tr>\n",
       "      <th>1994-01-11</th>\n",
       "      <td>3413.770000</td>\n",
       "    </tr>\n",
       "    <tr>\n",
       "      <th>1994-01-12</th>\n",
       "      <td>3372.020000</td>\n",
       "    </tr>\n",
       "    <tr>\n",
       "      <th>1994-01-13</th>\n",
       "      <td>3360.010000</td>\n",
       "    </tr>\n",
       "    <tr>\n",
       "      <th>...</th>\n",
       "      <td>...</td>\n",
       "    </tr>\n",
       "    <tr>\n",
       "      <th>2018-01-23</th>\n",
       "      <td>7731.827774</td>\n",
       "    </tr>\n",
       "    <tr>\n",
       "      <th>2018-01-24</th>\n",
       "      <td>7643.428966</td>\n",
       "    </tr>\n",
       "    <tr>\n",
       "      <th>2018-01-25</th>\n",
       "      <td>7615.839954</td>\n",
       "    </tr>\n",
       "    <tr>\n",
       "      <th>2018-01-26</th>\n",
       "      <td>7665.541292</td>\n",
       "    </tr>\n",
       "    <tr>\n",
       "      <th>2018-01-29</th>\n",
       "      <td>7671.533300</td>\n",
       "    </tr>\n",
       "  </tbody>\n",
       "</table>\n",
       "<p>6277 rows × 1 columns</p>\n",
       "</div>"
      ],
      "text/plain": [
       "            marketValue\n",
       "date                   \n",
       "1994-01-07  3445.980000\n",
       "1994-01-10  3440.580000\n",
       "1994-01-11  3413.770000\n",
       "1994-01-12  3372.020000\n",
       "1994-01-13  3360.010000\n",
       "...                 ...\n",
       "2018-01-23  7731.827774\n",
       "2018-01-24  7643.428966\n",
       "2018-01-25  7615.839954\n",
       "2018-01-26  7665.541292\n",
       "2018-01-29  7671.533300\n",
       "\n",
       "[6277 rows x 1 columns]"
      ]
     },
     "execution_count": 54,
     "metadata": {},
     "output_type": "execute_result"
    }
   ],
   "source": [
    "# Deleting some columns \n",
    "dfComp = dfComp.drop(['spx','dax', 'ftse', 'nikkei'], axis = 1)\n",
    "dfComp"
   ]
  },
  {
   "cell_type": "code",
   "execution_count": 55,
   "id": "ea176cc3",
   "metadata": {},
   "outputs": [],
   "source": [
    "# spliting data set in trainning and testing data\n",
    "size = int(len(dfComp)*0.8)\n",
    "df, dfTest = dfComp.iloc[:size], dfComp.iloc[size:]"
   ]
  },
  {
   "cell_type": "code",
   "execution_count": 63,
   "id": "b65770f2",
   "metadata": {},
   "outputs": [],
   "source": [
    "#  The LLR test\n",
    "\n",
    "def LLR_test(mod_1, mod_2, DF = 1):\n",
    "    L1 = mod_1.llf\n",
    "    L2 = mod_2.llf\n",
    "    LR = (2*(L2-L1))\n",
    "    p = chi2.sf(LR, DF).round(3)\n",
    "    return p"
   ]
  },
  {
   "cell_type": "code",
   "execution_count": 57,
   "id": "14a62091",
   "metadata": {},
   "outputs": [],
   "source": [
    "import warnings\n",
    "warnings.filterwarnings(\"ignore\")"
   ]
  },
  {
   "cell_type": "code",
   "execution_count": 58,
   "id": "158a767c",
   "metadata": {},
   "outputs": [],
   "source": [
    "# Creating Returns\n",
    "df['returns'] = df.marketValue.pct_change(1)*100"
   ]
  },
  {
   "cell_type": "code",
   "execution_count": 59,
   "id": "2fa633cc",
   "metadata": {},
   "outputs": [
    {
     "data": {
      "image/png": "[encoded data removed]",
      "text/plain": [
       "<Figure size 432x288 with 1 Axes>"
      ]
     },
     "metadata": {
      "needs_background": "light"
     },
     "output_type": "display_data"
    }
   ],
   "source": [
    "# ACF for returns\n",
    "\n",
    "sgt.plot_acf(df.returns[1:], zero = False, lags = 40)\n",
    "plt.title(\"ACF for FTSE returns\", size = 19)\n",
    "plt.show()"
   ]
  },
  {
   "cell_type": "code",
   "execution_count": 60,
   "id": "0f74d122",
   "metadata": {},
   "outputs": [
    {
     "data": {
      "image/png": "[encoded data removed]",
      "text/plain": [
       "<Figure size 432x288 with 1 Axes>"
      ]
     },
     "metadata": {
      "needs_background": "light"
     },
     "output_type": "display_data"
    }
   ],
   "source": [
    "sgt.plot_pacf(df.returns[1:], zero = False, lags = 40, method = 'ols')\n",
    "plt.title(\"PACF for FTSE returns\", size = 19)\n",
    "plt.show()"
   ]
  },
  {
   "cell_type": "code",
   "execution_count": 67,
   "id": "6f32f48f",
   "metadata": {},
   "outputs": [
    {
     "data": {
      "text/html": [
       "<table class=\"simpletable\">\n",
       "<caption>ARMA Model Results</caption>\n",
       "<tr>\n",
       "  <th>Dep. Variable:</th>      <td>returns</td>     <th>  No. Observations:  </th>   <td>5020</td>   \n",
       "</tr>\n",
       "<tr>\n",
       "  <th>Model:</th>            <td>ARMA(0, 1)</td>    <th>  Log Likelihood     </th> <td>-7929.595</td>\n",
       "</tr>\n",
       "<tr>\n",
       "  <th>Method:</th>             <td>css-mle</td>     <th>  S.D. of innovations</th>   <td>1.174</td>  \n",
       "</tr>\n",
       "<tr>\n",
       "  <th>Date:</th>          <td>Mon, 17 Jan 2022</td> <th>  AIC                </th> <td>15865.190</td>\n",
       "</tr>\n",
       "<tr>\n",
       "  <th>Time:</th>              <td>09:49:31</td>     <th>  BIC                </th> <td>15884.754</td>\n",
       "</tr>\n",
       "<tr>\n",
       "  <th>Sample:</th>           <td>01-10-1994</td>    <th>  HQIC               </th> <td>15872.045</td>\n",
       "</tr>\n",
       "<tr>\n",
       "  <th></th>                 <td>- 04-05-2013</td>   <th>                     </th>     <td> </td>    \n",
       "</tr>\n",
       "</table>\n",
       "<table class=\"simpletable\">\n",
       "<tr>\n",
       "        <td></td>           <th>coef</th>     <th>std err</th>      <th>z</th>      <th>P>|z|</th>  <th>[0.025</th>    <th>0.975]</th>  \n",
       "</tr>\n",
       "<tr>\n",
       "  <th>const</th>         <td>    0.0188</td> <td>    0.016</td> <td>    1.162</td> <td> 0.245</td> <td>   -0.013</td> <td>    0.050</td>\n",
       "</tr>\n",
       "<tr>\n",
       "  <th>ma.L1.returns</th> <td>   -0.0257</td> <td>    0.015</td> <td>   -1.720</td> <td> 0.085</td> <td>   -0.055</td> <td>    0.004</td>\n",
       "</tr>\n",
       "</table>\n",
       "<table class=\"simpletable\">\n",
       "<caption>Roots</caption>\n",
       "<tr>\n",
       "    <td></td>   <th>            Real</th>  <th>         Imaginary</th> <th>         Modulus</th>  <th>        Frequency</th>\n",
       "</tr>\n",
       "<tr>\n",
       "  <th>MA.1</th> <td>          38.8550</td> <td>          +0.0000j</td> <td>          38.8550</td> <td>           0.0000</td>\n",
       "</tr>\n",
       "</table>"
      ],
      "text/plain": [
       "<class 'statsmodels.iolib.summary.Summary'>\n",
       "\"\"\"\n",
       "                              ARMA Model Results                              \n",
       "==============================================================================\n",
       "Dep. Variable:                returns   No. Observations:                 5020\n",
       "Model:                     ARMA(0, 1)   Log Likelihood               -7929.595\n",
       "Method:                       css-mle   S.D. of innovations              1.174\n",
       "Date:                Mon, 17 Jan 2022   AIC                          15865.190\n",
       "Time:                        09:49:31   BIC                          15884.754\n",
       "Sample:                    01-10-1994   HQIC                         15872.045\n",
       "                         - 04-05-2013                                         \n",
       "=================================================================================\n",
       "                    coef    std err          z      P>|z|      [0.025      0.975]\n",
       "---------------------------------------------------------------------------------\n",
       "const             0.0188      0.016      1.162      0.245      -0.013       0.050\n",
       "ma.L1.returns    -0.0257      0.015     -1.720      0.085      -0.055       0.004\n",
       "                                    Roots                                    \n",
       "=============================================================================\n",
       "                  Real          Imaginary           Modulus         Frequency\n",
       "-----------------------------------------------------------------------------\n",
       "MA.1           38.8550           +0.0000j           38.8550            0.0000\n",
       "-----------------------------------------------------------------------------\n",
       "\"\"\""
      ]
     },
     "execution_count": 67,
     "metadata": {},
     "output_type": "execute_result"
    }
   ],
   "source": [
    "# MA(1) for Returns\n",
    "\n",
    "modelRetMA1 = ARMA(df.returns[1:], order = (0,1)) # En order la ordenada indica los rezagos del error\n",
    "resultsRetMa1 = modelRetMA1.fit()\n",
    "resultsRetMa1.summary()"
   ]
  },
  {
   "cell_type": "markdown",
   "id": "fbaedae0",
   "metadata": {},
   "source": [
    "el primer rezago no es significativo"
   ]
  },
  {
   "cell_type": "code",
   "execution_count": 75,
   "id": "9d602874",
   "metadata": {},
   "outputs": [
    {
     "name": "stdout",
     "output_type": "stream",
     "text": [
      "                              ARMA Model Results                              \n",
      "==============================================================================\n",
      "Dep. Variable:                returns   No. Observations:                 5020\n",
      "Model:                     ARMA(0, 2)   Log Likelihood               -7922.864\n",
      "Method:                       css-mle   S.D. of innovations              1.173\n",
      "Date:                Mon, 17 Jan 2022   AIC                          15853.728\n",
      "Time:                        09:52:08   BIC                          15879.812\n",
      "Sample:                    01-10-1994   HQIC                         15862.868\n",
      "                         - 04-05-2013                                         \n",
      "=================================================================================\n",
      "                    coef    std err          z      P>|z|      [0.025      0.975]\n",
      "---------------------------------------------------------------------------------\n",
      "const             0.0188      0.015      1.239      0.215      -0.011       0.049\n",
      "ma.L1.returns    -0.0327      0.014     -2.297      0.022      -0.061      -0.005\n",
      "ma.L2.returns    -0.0502      0.014     -3.669      0.000      -0.077      -0.023\n",
      "                                    Roots                                    \n",
      "=============================================================================\n",
      "                  Real          Imaginary           Modulus         Frequency\n",
      "-----------------------------------------------------------------------------\n",
      "MA.1            4.1499           +0.0000j            4.1499            0.0000\n",
      "MA.2           -4.8004           +0.0000j            4.8004            0.5000\n",
      "-----------------------------------------------------------------------------\n",
      "\n",
      "LLR test p-value = 0.0\n"
     ]
    }
   ],
   "source": [
    "# Higher lag MA models\n",
    "\n",
    "modelRetMA2 = ARMA(df.returns[1:], order = (0,2)) # En order la ordenada indica los rezagos del error\n",
    "resultsRetMA2 = modelRetMA2.fit()\n",
    "\n",
    "print(resultsRetMA2.summary())\n",
    "print(\"\\nLLR test p-value = \" + str(LLR_test(resultsRetMa1,resultsRetMA2)))"
   ]
  },
  {
   "cell_type": "code",
   "execution_count": 77,
   "id": "a3fe6e75",
   "metadata": {},
   "outputs": [
    {
     "name": "stdout",
     "output_type": "stream",
     "text": [
      "                              ARMA Model Results                              \n",
      "==============================================================================\n",
      "Dep. Variable:                returns   No. Observations:                 5020\n",
      "Model:                     ARMA(0, 3)   Log Likelihood               -7904.317\n",
      "Method:                       css-mle   S.D. of innovations              1.168\n",
      "Date:                Mon, 17 Jan 2022   AIC                          15818.634\n",
      "Time:                        09:52:20   BIC                          15851.240\n",
      "Sample:                    01-10-1994   HQIC                         15830.060\n",
      "                         - 04-05-2013                                         \n",
      "=================================================================================\n",
      "                    coef    std err          z      P>|z|      [0.025      0.975]\n",
      "---------------------------------------------------------------------------------\n",
      "const             0.0189      0.014      1.376      0.169      -0.008       0.046\n",
      "ma.L1.returns    -0.0203      0.014     -1.423      0.155      -0.048       0.008\n",
      "ma.L2.returns    -0.0556      0.013     -4.134      0.000      -0.082      -0.029\n",
      "ma.L3.returns    -0.0904      0.015     -6.121      0.000      -0.119      -0.061\n",
      "                                    Roots                                    \n",
      "=============================================================================\n",
      "                  Real          Imaginary           Modulus         Frequency\n",
      "-----------------------------------------------------------------------------\n",
      "MA.1            2.0105           -0.0000j            2.0105           -0.0000\n",
      "MA.2           -1.3129           -1.9441j            2.3459           -0.3445\n",
      "MA.3           -1.3129           +1.9441j            2.3459            0.3445\n",
      "-----------------------------------------------------------------------------\n",
      "\n",
      "LLR test p-value = 0.0\n"
     ]
    }
   ],
   "source": [
    "modelRetMA3 = ARMA(df.returns[1:], order = (0,3)) # En order la ordenada indica los rezagos del error\n",
    "resultsRetMA3 = modelRetMA3.fit()\n",
    "\n",
    "print(resultsRetMA3.summary())\n",
    "print(\"\\nLLR test p-value = \" + str(LLR_test(resultsRetMA2,resultsRetMA3)))"
   ]
  },
  {
   "cell_type": "code",
   "execution_count": 79,
   "id": "6b21091c",
   "metadata": {},
   "outputs": [
    {
     "name": "stdout",
     "output_type": "stream",
     "text": [
      "                              ARMA Model Results                              \n",
      "==============================================================================\n",
      "Dep. Variable:                returns   No. Observations:                 5020\n",
      "Model:                     ARMA(0, 4)   Log Likelihood               -7898.773\n",
      "Method:                       css-mle   S.D. of innovations              1.167\n",
      "Date:                Mon, 17 Jan 2022   AIC                          15809.547\n",
      "Time:                        09:53:34   BIC                          15848.674\n",
      "Sample:                    01-10-1994   HQIC                         15823.257\n",
      "                         - 04-05-2013                                         \n",
      "=================================================================================\n",
      "                    coef    std err          z      P>|z|      [0.025      0.975]\n",
      "---------------------------------------------------------------------------------\n",
      "const             0.0189      0.014      1.305      0.192      -0.009       0.047\n",
      "ma.L1.returns    -0.0203      0.014     -1.443      0.149      -0.048       0.007\n",
      "ma.L2.returns    -0.0551      0.014     -3.902      0.000      -0.083      -0.027\n",
      "ma.L3.returns    -0.0922      0.015     -6.306      0.000      -0.121      -0.064\n",
      "ma.L4.returns     0.0454      0.014      3.338      0.001       0.019       0.072\n",
      "                                    Roots                                    \n",
      "=============================================================================\n",
      "                  Real          Imaginary           Modulus         Frequency\n",
      "-----------------------------------------------------------------------------\n",
      "MA.1           -1.2257           -1.4206j            1.8763           -0.3633\n",
      "MA.2           -1.2257           +1.4206j            1.8763            0.3633\n",
      "MA.3            2.2405           -1.1103j            2.5006           -0.0732\n",
      "MA.4            2.2405           +1.1103j            2.5006            0.0732\n",
      "-----------------------------------------------------------------------------\n",
      "\n",
      "LLR test p-value = 0.001\n"
     ]
    }
   ],
   "source": [
    "modelRetMA4 = ARMA(df.returns[1:], order = (0,4)) # En order la ordenada indica los rezagos del error\n",
    "resultsRetMA4 = modelRetMA4.fit()\n",
    "\n",
    "print(resultsRetMA4.summary())\n",
    "print(\"\\nLLR test p-value = \" + str(LLR_test(resultsRetMA3,resultsRetMA4)))"
   ]
  },
  {
   "cell_type": "code",
   "execution_count": 80,
   "id": "2f644d13",
   "metadata": {},
   "outputs": [
    {
     "name": "stdout",
     "output_type": "stream",
     "text": [
      "                              ARMA Model Results                              \n",
      "==============================================================================\n",
      "Dep. Variable:                returns   No. Observations:                 5020\n",
      "Model:                     ARMA(0, 5)   Log Likelihood               -7892.823\n",
      "Method:                       css-mle   S.D. of innovations              1.166\n",
      "Date:                Mon, 17 Jan 2022   AIC                          15799.645\n",
      "Time:                        09:54:11   BIC                          15845.294\n",
      "Sample:                    01-10-1994   HQIC                         15815.641\n",
      "                         - 04-05-2013                                         \n",
      "=================================================================================\n",
      "                    coef    std err          z      P>|z|      [0.025      0.975]\n",
      "---------------------------------------------------------------------------------\n",
      "const             0.0189      0.014      1.376      0.169      -0.008       0.046\n",
      "ma.L1.returns    -0.0262      0.014     -1.851      0.064      -0.054       0.002\n",
      "ma.L2.returns    -0.0497      0.014     -3.518      0.000      -0.077      -0.022\n",
      "ma.L3.returns    -0.0852      0.015     -5.799      0.000      -0.114      -0.056\n",
      "ma.L4.returns     0.0458      0.014      3.374      0.001       0.019       0.072\n",
      "ma.L5.returns    -0.0500      0.014     -3.454      0.001      -0.078      -0.022\n",
      "                                    Roots                                    \n",
      "=============================================================================\n",
      "                  Real          Imaginary           Modulus         Frequency\n",
      "-----------------------------------------------------------------------------\n",
      "MA.1           -1.2127           -1.0805j            1.6242           -0.3842\n",
      "MA.2           -1.2127           +1.0805j            1.6242            0.3842\n",
      "MA.3            1.7305           -0.0000j            1.7305           -0.0000\n",
      "MA.4            0.8062           -1.9326j            2.0940           -0.1871\n",
      "MA.5            0.8062           +1.9326j            2.0940            0.1871\n",
      "-----------------------------------------------------------------------------\n",
      "\n",
      "LLR test p-value = 0.001\n"
     ]
    }
   ],
   "source": [
    "modelRetMA5 = ARMA(df.returns[1:], order = (0,5)) # En order la ordenada indica los rezagos del error\n",
    "resultsRetMA5 = modelRetMA5.fit()\n",
    "\n",
    "print(resultsRetMA5.summary())\n",
    "print(\"\\nLLR test p-value = \" + str(LLR_test(resultsRetMA4,resultsRetMA5)))"
   ]
  },
  {
   "cell_type": "code",
   "execution_count": 84,
   "id": "f16f7a57",
   "metadata": {},
   "outputs": [
    {
     "name": "stdout",
     "output_type": "stream",
     "text": [
      "                              ARMA Model Results                              \n",
      "==============================================================================\n",
      "Dep. Variable:                returns   No. Observations:                 5020\n",
      "Model:                     ARMA(0, 6)   Log Likelihood               -7889.221\n",
      "Method:                       css-mle   S.D. of innovations              1.165\n",
      "Date:                Mon, 17 Jan 2022   AIC                          15794.442\n",
      "Time:                        09:55:55   BIC                          15846.612\n",
      "Sample:                    01-10-1994   HQIC                         15812.723\n",
      "                         - 04-05-2013                                         \n",
      "=================================================================================\n",
      "                    coef    std err          z      P>|z|      [0.025      0.975]\n",
      "---------------------------------------------------------------------------------\n",
      "const             0.0189      0.013      1.430      0.153      -0.007       0.045\n",
      "ma.L1.returns    -0.0237      0.014     -1.682      0.093      -0.051       0.004\n",
      "ma.L2.returns    -0.0486      0.014     -3.436      0.001      -0.076      -0.021\n",
      "ma.L3.returns    -0.0827      0.014     -5.846      0.000      -0.110      -0.055\n",
      "ma.L4.returns     0.0466      0.014      3.434      0.001       0.020       0.073\n",
      "ma.L5.returns    -0.0484      0.014     -3.371      0.001      -0.077      -0.020\n",
      "ma.L6.returns    -0.0387      0.014     -2.682      0.007      -0.067      -0.010\n",
      "                                    Roots                                    \n",
      "=============================================================================\n",
      "                  Real          Imaginary           Modulus         Frequency\n",
      "-----------------------------------------------------------------------------\n",
      "MA.1            1.5011           -0.0000j            1.5011           -0.0000\n",
      "MA.2            0.8248           -1.4775j            1.6921           -0.1690\n",
      "MA.3            0.8248           +1.4775j            1.6921            0.1690\n",
      "MA.4           -1.0066           -1.2260j            1.5863           -0.3594\n",
      "MA.5           -1.0066           +1.2260j            1.5863            0.3594\n",
      "MA.6           -2.3891           -0.0000j            2.3891           -0.5000\n",
      "-----------------------------------------------------------------------------\n",
      "\n",
      "LLR test p-value = 0.007\n"
     ]
    }
   ],
   "source": [
    "modelRetMA6 = ARMA(df.returns[1:], order = (0,6)) # En order la ordenada indica los rezagos del error\n",
    "resultsRetMA6 = modelRetMA6.fit()\n",
    "\n",
    "print(resultsRetMA6.summary())\n",
    "print(\"\\nLLR test p-value = \" + str(LLR_test(resultsRetMA5,resultsRetMA6)))"
   ]
  },
  {
   "cell_type": "code",
   "execution_count": 85,
   "id": "cf6a1689",
   "metadata": {},
   "outputs": [
    {
     "name": "stdout",
     "output_type": "stream",
     "text": [
      "                              ARMA Model Results                              \n",
      "==============================================================================\n",
      "Dep. Variable:                returns   No. Observations:                 5020\n",
      "Model:                     ARMA(0, 7)   Log Likelihood               -7889.046\n",
      "Method:                       css-mle   S.D. of innovations              1.165\n",
      "Date:                Mon, 17 Jan 2022   AIC                          15796.091\n",
      "Time:                        09:56:28   BIC                          15854.782\n",
      "Sample:                    01-10-1994   HQIC                         15816.657\n",
      "                         - 04-05-2013                                         \n",
      "=================================================================================\n",
      "                    coef    std err          z      P>|z|      [0.025      0.975]\n",
      "---------------------------------------------------------------------------------\n",
      "const             0.0189      0.013      1.418      0.156      -0.007       0.045\n",
      "ma.L1.returns    -0.0247      0.014     -1.739      0.082      -0.052       0.003\n",
      "ma.L2.returns    -0.0488      0.014     -3.454      0.001      -0.077      -0.021\n",
      "ma.L3.returns    -0.0821      0.014     -5.789      0.000      -0.110      -0.054\n",
      "ma.L4.returns     0.0458      0.014      3.360      0.001       0.019       0.073\n",
      "ma.L5.returns    -0.0486      0.014     -3.381      0.001      -0.077      -0.020\n",
      "ma.L6.returns    -0.0390      0.014     -2.702      0.007      -0.067      -0.011\n",
      "ma.L7.returns     0.0085      0.014      0.592      0.554      -0.020       0.037\n",
      "                                    Roots                                    \n",
      "=============================================================================\n",
      "                  Real          Imaginary           Modulus         Frequency\n",
      "-----------------------------------------------------------------------------\n",
      "MA.1           -0.9690           -1.1814j            1.5279           -0.3593\n",
      "MA.2           -0.9690           +1.1814j            1.5279            0.3593\n",
      "MA.3           -2.0397           -0.0000j            2.0397           -0.5000\n",
      "MA.4            0.7516           -1.5246j            1.6998           -0.1771\n",
      "MA.5            0.7516           +1.5246j            1.6998            0.1771\n",
      "MA.6            1.5538           -0.0000j            1.5538           -0.0000\n",
      "MA.7            5.5175           -0.0000j            5.5175           -0.0000\n",
      "-----------------------------------------------------------------------------\n",
      "\n",
      "LLR test p-value = 0.554\n"
     ]
    }
   ],
   "source": [
    "modelRetMA7 = ARMA(df.returns[1:], order = (0,7)) # En order la ordenada indica los rezagos del error\n",
    "resultsRetMA7 = modelRetMA7.fit()\n",
    "\n",
    "print(resultsRetMA7.summary())\n",
    "print(\"\\nLLR test p-value = \" + str(LLR_test(resultsRetMA6,resultsRetMA7)))"
   ]
  },
  {
   "cell_type": "code",
   "execution_count": 88,
   "id": "731cd5a2",
   "metadata": {},
   "outputs": [
    {
     "name": "stdout",
     "output_type": "stream",
     "text": [
      "                              ARMA Model Results                              \n",
      "==============================================================================\n",
      "Dep. Variable:                returns   No. Observations:                 5020\n",
      "Model:                     ARMA(0, 8)   Log Likelihood               -7885.603\n",
      "Method:                       css-mle   S.D. of innovations              1.164\n",
      "Date:                Mon, 17 Jan 2022   AIC                          15791.205\n",
      "Time:                        09:59:36   BIC                          15856.417\n",
      "Sample:                    01-10-1994   HQIC                         15814.056\n",
      "                         - 04-05-2013                                         \n",
      "=================================================================================\n",
      "                    coef    std err          z      P>|z|      [0.025      0.975]\n",
      "---------------------------------------------------------------------------------\n",
      "const             0.0189      0.014      1.364      0.173      -0.008       0.046\n",
      "ma.L1.returns    -0.0238      0.014     -1.688      0.091      -0.051       0.004\n",
      "ma.L2.returns    -0.0495      0.014     -3.514      0.000      -0.077      -0.022\n",
      "ma.L3.returns    -0.0847      0.014     -5.993      0.000      -0.112      -0.057\n",
      "ma.L4.returns     0.0488      0.014      3.440      0.001       0.021       0.077\n",
      "ma.L5.returns    -0.0518      0.014     -3.634      0.000      -0.080      -0.024\n",
      "ma.L6.returns    -0.0402      0.014     -2.787      0.005      -0.068      -0.012\n",
      "ma.L7.returns     0.0084      0.014      0.587      0.557      -0.020       0.036\n",
      "ma.L8.returns     0.0366      0.014      2.626      0.009       0.009       0.064\n",
      "                                    Roots                                    \n",
      "=============================================================================\n",
      "                  Real          Imaginary           Modulus         Frequency\n",
      "-----------------------------------------------------------------------------\n",
      "MA.1            1.4716           -0.4282j            1.5326           -0.0451\n",
      "MA.2            1.4716           +0.4282j            1.5326            0.0451\n",
      "MA.3            0.5944           -1.3169j            1.4448           -0.1825\n",
      "MA.4            0.5944           +1.3169j            1.4448            0.1825\n",
      "MA.5           -0.7318           -1.2736j            1.4689           -0.3330\n",
      "MA.6           -0.7318           +1.2736j            1.4689            0.3330\n",
      "MA.7           -1.4485           -0.6983j            1.6081           -0.4285\n",
      "MA.8           -1.4485           +0.6983j            1.6081            0.4285\n",
      "-----------------------------------------------------------------------------\n",
      "\n",
      "LLR test p-value = 0.027\n"
     ]
    }
   ],
   "source": [
    "modelRetMA8 = ARMA(df.returns[1:], order = (0,8)) # En order la ordenada indica los rezagos del error\n",
    "resultsRetMA8 = modelRetMA8.fit()\n",
    "\n",
    "print(resultsRetMA8.summary())\n",
    "print(\"\\nLLR test p-value = \" + str(LLR_test(resultsRetMA6,resultsRetMA8, DF = 2)))"
   ]
  },
  {
   "cell_type": "code",
   "execution_count": 89,
   "id": "404b6a40",
   "metadata": {},
   "outputs": [],
   "source": [
    "# Análisis de residuos de retornos\n",
    "\n",
    "df['resRetMA8'] = resultsRetMA8.resid[1:]"
   ]
  },
  {
   "cell_type": "code",
   "execution_count": 93,
   "id": "9480c413",
   "metadata": {},
   "outputs": [
    {
     "name": "stdout",
     "output_type": "stream",
     "text": [
      "Mean of residuals is-0.0\n",
      " The variance of the residuals 1.356\n"
     ]
    }
   ],
   "source": [
    "print(\"Mean of residuals is\" + str(round(df.resRetMA8.mean(),3)) + \"\\n The variance of the residuals \"+ str(round(df.resRetMA8.var(),3)))"
   ]
  },
  {
   "cell_type": "code",
   "execution_count": 94,
   "id": "0918c67c",
   "metadata": {},
   "outputs": [
    {
     "data": {
      "text/plain": [
       "1.164"
      ]
     },
     "execution_count": 94,
     "metadata": {},
     "output_type": "execute_result"
    }
   ],
   "source": [
    "round(sqrt(df.resRetMA8.var()),3)"
   ]
  },
  {
   "cell_type": "code",
   "execution_count": 95,
   "id": "7b165632",
   "metadata": {},
   "outputs": [
    {
     "data": {
      "image/png": "[encoded data removed]",
      "text/plain": [
       "<Figure size 1440x360 with 1 Axes>"
      ]
     },
     "metadata": {
      "needs_background": "light"
     },
     "output_type": "display_data"
    }
   ],
   "source": [
    "df.resRetMA8[2:].plot(figsize = (20,5))\n",
    "plt.title(\"Residuals of Returns\", size = 24)\n",
    "plt.show()"
   ]
  },
  {
   "cell_type": "code",
   "execution_count": 98,
   "id": "fc4b5ef0",
   "metadata": {},
   "outputs": [
    {
     "data": {
      "text/plain": [
       "(-70.83581919699559,\n",
       " 0.0,\n",
       " 0,\n",
       " 5018,\n",
       " {'1%': -3.4316538358533277,\n",
       "  '5%': -2.8621161549128313,\n",
       "  '10%': -2.567076687880585},\n",
       " 15684.052185267185)"
      ]
     },
     "execution_count": 98,
     "metadata": {},
     "output_type": "execute_result"
    }
   ],
   "source": [
    "sts.adfuller(df.resRetMA8[2:])  # se consideran residuos estacionarios"
   ]
  },
  {
   "cell_type": "code",
   "execution_count": 99,
   "id": "feb85478",
   "metadata": {},
   "outputs": [
    {
     "data": {
      "image/png": "[encoded data removed]",
      "text/plain": [
       "<Figure size 432x288 with 1 Axes>"
      ]
     },
     "metadata": {
      "needs_background": "light"
     },
     "output_type": "display_data"
    }
   ],
   "source": [
    "# a pesar que la serie de residuos es estacionario, pero se necesita que se comporte como ruido blanco\n",
    "\n",
    "sgt.plot_acf(df.resRetMA8[2:], zero = False, lags = 40)\n",
    "plt.title(\"ACF of Residuals for returns\", size = 22)\n",
    "plt.show()\n"
   ]
  },
  {
   "cell_type": "code",
   "execution_count": 100,
   "id": "94d15b5f",
   "metadata": {},
   "outputs": [
    {
     "name": "stdout",
     "output_type": "stream",
     "text": [
      "                              ARMA Model Results                              \n",
      "==============================================================================\n",
      "Dep. Variable:                returns   No. Observations:                 5020\n",
      "Model:                     ARMA(0, 6)   Log Likelihood               -7889.221\n",
      "Method:                       css-mle   S.D. of innovations              1.165\n",
      "Date:                Mon, 17 Jan 2022   AIC                          15794.442\n",
      "Time:                        10:33:33   BIC                          15846.612\n",
      "Sample:                    01-10-1994   HQIC                         15812.723\n",
      "                         - 04-05-2013                                         \n",
      "=================================================================================\n",
      "                    coef    std err          z      P>|z|      [0.025      0.975]\n",
      "---------------------------------------------------------------------------------\n",
      "const             0.0189      0.013      1.430      0.153      -0.007       0.045\n",
      "ma.L1.returns    -0.0237      0.014     -1.682      0.093      -0.051       0.004\n",
      "ma.L2.returns    -0.0486      0.014     -3.436      0.001      -0.076      -0.021\n",
      "ma.L3.returns    -0.0827      0.014     -5.846      0.000      -0.110      -0.055\n",
      "ma.L4.returns     0.0466      0.014      3.434      0.001       0.020       0.073\n",
      "ma.L5.returns    -0.0484      0.014     -3.371      0.001      -0.077      -0.020\n",
      "ma.L6.returns    -0.0387      0.014     -2.682      0.007      -0.067      -0.010\n",
      "                                    Roots                                    \n",
      "=============================================================================\n",
      "                  Real          Imaginary           Modulus         Frequency\n",
      "-----------------------------------------------------------------------------\n",
      "MA.1            1.5011           -0.0000j            1.5011           -0.0000\n",
      "MA.2            0.8248           -1.4775j            1.6921           -0.1690\n",
      "MA.3            0.8248           +1.4775j            1.6921            0.1690\n",
      "MA.4           -1.0066           -1.2260j            1.5863           -0.3594\n",
      "MA.5           -1.0066           +1.2260j            1.5863            0.3594\n",
      "MA.6           -2.3891           -0.0000j            2.3891           -0.5000\n",
      "-----------------------------------------------------------------------------\n"
     ]
    }
   ],
   "source": [
    "# Medias móviles con 6 retrasos\n",
    "\n",
    "modelRetMA6 = ARMA(df.returns[1:], order = (0,6)) # En order la ordenada indica los rezagos del error\n",
    "resultsRetMA6 = modelRetMA6.fit()\n",
    "\n",
    "print(resultsRetMA6.summary())\n",
    "\n",
    "# La gráfica muestra que los coeficientes asociados a los 6 rezagos son estadísticamente distintios de cero menos \n",
    "# el primero.\n"
   ]
  },
  {
   "cell_type": "code",
   "execution_count": 102,
   "id": "101f4f0f",
   "metadata": {},
   "outputs": [
    {
     "data": {
      "text/html": [
       "<div>\n",
       "<style scoped>\n",
       "    .dataframe tbody tr th:only-of-type {\n",
       "        vertical-align: middle;\n",
       "    }\n",
       "\n",
       "    .dataframe tbody tr th {\n",
       "        vertical-align: top;\n",
       "    }\n",
       "\n",
       "    .dataframe thead th {\n",
       "        text-align: right;\n",
       "    }\n",
       "</style>\n",
       "<table border=\"1\" class=\"dataframe\">\n",
       "  <thead>\n",
       "    <tr style=\"text-align: right;\">\n",
       "      <th></th>\n",
       "      <th>marketValue</th>\n",
       "      <th>returns</th>\n",
       "      <th>resRetMA8</th>\n",
       "      <th>resRetMA6</th>\n",
       "    </tr>\n",
       "    <tr>\n",
       "      <th>date</th>\n",
       "      <th></th>\n",
       "      <th></th>\n",
       "      <th></th>\n",
       "      <th></th>\n",
       "    </tr>\n",
       "  </thead>\n",
       "  <tbody>\n",
       "    <tr>\n",
       "      <th>1994-01-07</th>\n",
       "      <td>3445.98</td>\n",
       "      <td>NaN</td>\n",
       "      <td>NaN</td>\n",
       "      <td>NaN</td>\n",
       "    </tr>\n",
       "    <tr>\n",
       "      <th>1994-01-10</th>\n",
       "      <td>3440.58</td>\n",
       "      <td>-0.156704</td>\n",
       "      <td>NaN</td>\n",
       "      <td>NaN</td>\n",
       "    </tr>\n",
       "    <tr>\n",
       "      <th>1994-01-11</th>\n",
       "      <td>3413.77</td>\n",
       "      <td>-0.779229</td>\n",
       "      <td>-0.802111</td>\n",
       "      <td>-0.802083</td>\n",
       "    </tr>\n",
       "    <tr>\n",
       "      <th>1994-01-12</th>\n",
       "      <td>3372.02</td>\n",
       "      <td>-1.222988</td>\n",
       "      <td>-1.269464</td>\n",
       "      <td>-1.268789</td>\n",
       "    </tr>\n",
       "    <tr>\n",
       "      <th>1994-01-13</th>\n",
       "      <td>3360.01</td>\n",
       "      <td>-0.356166</td>\n",
       "      <td>-0.464780</td>\n",
       "      <td>-0.461319</td>\n",
       "    </tr>\n",
       "  </tbody>\n",
       "</table>\n",
       "</div>"
      ],
      "text/plain": [
       "            marketValue   returns  resRetMA8  resRetMA6\n",
       "date                                                   \n",
       "1994-01-07      3445.98       NaN        NaN        NaN\n",
       "1994-01-10      3440.58 -0.156704        NaN        NaN\n",
       "1994-01-11      3413.77 -0.779229  -0.802111  -0.802083\n",
       "1994-01-12      3372.02 -1.222988  -1.269464  -1.268789\n",
       "1994-01-13      3360.01 -0.356166  -0.464780  -0.461319"
      ]
     },
     "execution_count": 102,
     "metadata": {},
     "output_type": "execute_result"
    }
   ],
   "source": [
    "# Guardar residuos del modelo con 6 retrasos\n",
    "\n",
    "df['resRetMA6'] = resultsRetMA6.resid[1:]\n",
    "df.head()"
   ]
  },
  {
   "cell_type": "code",
   "execution_count": 104,
   "id": "8735dca8",
   "metadata": {},
   "outputs": [
    {
     "data": {
      "image/png": "[encoded data removed]",
      "text/plain": [
       "<Figure size 1440x360 with 1 Axes>"
      ]
     },
     "metadata": {
      "needs_background": "light"
     },
     "output_type": "display_data"
    }
   ],
   "source": [
    "df.resRetMA6.plot(figsize = (20,5))\n",
    "plt.title(\"Residuals of Returns MA(6) Model\")\n",
    "plt.show()\n",
    "\n",
    "# La gráfica muestra que los datos se mueven alrededor del cero, encomtrándose un pico sobresaliente\n",
    "# a finales del 2008 debido a la burbuja y otros picos menores. Pero si quitamos esos choques el\n",
    "# comportamiento de los residuos se comporta aleatoriamente."
   ]
  },
  {
   "cell_type": "code",
   "execution_count": 105,
   "id": "437ff941",
   "metadata": {},
   "outputs": [
    {
     "data": {
      "image/png": "[encoded data removed]",
      "text/plain": [
       "<Figure size 432x288 with 1 Axes>"
      ]
     },
     "metadata": {
      "needs_background": "light"
     },
     "output_type": "display_data"
    }
   ],
   "source": [
    "# Analiza la función ACF de los residuos del modelo MA(6) e interpreta\n",
    "\n",
    "sgt.plot_acf(df.resRetMA6[2:], zero = False, lags = 40)\n",
    "plt.show()\n",
    "\n",
    "# Similar al modelo con ocho rezagos se puede visualizar que la mayorías de los coeficientes hasta el rezago 17 están \n",
    "# en el área de significación, es decir, son no significativos. Específicamente, los primero 6 rezagos son capturados\n",
    "# por el modelo por lo que son prácticamente cero. Con excepción del octavo rezago, que nos indica que el modelo puede \n",
    "# mejorarse y debería evaluarse. Visualizando rezagos más alejados, podemos decir que la mayoría están dentro del área de \n",
    "# significación por lo que no tendrían influencia en las estimaciones perdiendo relevancia."
   ]
  },
  {
   "cell_type": "code",
   "execution_count": 106,
   "id": "ca8fceb4",
   "metadata": {},
   "outputs": [
    {
     "data": {
      "text/plain": [
       "(-70.83996126161271,\n",
       " 0.0,\n",
       " 0,\n",
       " 5018,\n",
       " {'1%': -3.4316538358533277,\n",
       "  '5%': -2.8621161549128313,\n",
       "  '10%': -2.567076687880585},\n",
       " 15691.135289428963)"
      ]
     },
     "execution_count": 106,
     "metadata": {},
     "output_type": "execute_result"
    }
   ],
   "source": [
    "# Haz un test de estacionariedad de los residuos e interpreta los resultados.\n",
    "\n",
    "sts.adfuller(df.resRetMA6[2:])  # el p-valor indica se consideran residuos estacionarios\n"
   ]
  },
  {
   "cell_type": "code",
   "execution_count": 113,
   "id": "79667bb0",
   "metadata": {},
   "outputs": [
    {
     "data": {
      "text/plain": [
       "1.165107619101666"
      ]
     },
     "execution_count": 113,
     "metadata": {},
     "output_type": "execute_result"
    }
   ],
   "source": [
    "# Se puede decir que los residuos de este modelo son ruido blanco?\n",
    "\n",
    "# Para que sea ruido blanco se deben cumplir tres cosas: Media cero, varianza constante y\n",
    "# debemos asegurarnos que la serie sea incorrelada (valores entre dos momentos diferentes no guardan relación). \n",
    "# Esto ya lo analizamos con la función de autorrelación y vimos que la mayoría de los coef son no significativos. \n",
    "# Vemos que los datos se mueven alrededor del cero. Analizamos anteriormente la estacionariedad con el test de DF. \n",
    "\n",
    "df.resRetMA6[2:].mean()\n",
    "df.resRetMA6[2:].std()\n",
    "\n",
    "# Podríamos decir que los residuos se comportan como ruido blanco. \n",
    "\n"
   ]
  },
  {
   "cell_type": "markdown",
   "id": "11be234a",
   "metadata": {},
   "source": [
    "# Normalización\n",
    "\n",
    "Método de transformación de datos de series temporales.\n",
    "\n",
    "Mapeo de valores que se convierte en un porcentaje respecto al primer valor de la serie.\n",
    "\n"
   ]
  },
  {
   "cell_type": "code",
   "execution_count": 114,
   "id": "d976c4e7",
   "metadata": {},
   "outputs": [
    {
     "data": {
      "text/html": [
       "<div>\n",
       "<style scoped>\n",
       "    .dataframe tbody tr th:only-of-type {\n",
       "        vertical-align: middle;\n",
       "    }\n",
       "\n",
       "    .dataframe tbody tr th {\n",
       "        vertical-align: top;\n",
       "    }\n",
       "\n",
       "    .dataframe thead th {\n",
       "        text-align: right;\n",
       "    }\n",
       "</style>\n",
       "<table border=\"1\" class=\"dataframe\">\n",
       "  <thead>\n",
       "    <tr style=\"text-align: right;\">\n",
       "      <th></th>\n",
       "      <th>marketValue</th>\n",
       "      <th>returns</th>\n",
       "      <th>resRetMA8</th>\n",
       "      <th>resRetMA6</th>\n",
       "      <th>norm</th>\n",
       "    </tr>\n",
       "    <tr>\n",
       "      <th>date</th>\n",
       "      <th></th>\n",
       "      <th></th>\n",
       "      <th></th>\n",
       "      <th></th>\n",
       "      <th></th>\n",
       "    </tr>\n",
       "  </thead>\n",
       "  <tbody>\n",
       "    <tr>\n",
       "      <th>1994-01-07</th>\n",
       "      <td>3445.98</td>\n",
       "      <td>NaN</td>\n",
       "      <td>NaN</td>\n",
       "      <td>NaN</td>\n",
       "      <td>100.000000</td>\n",
       "    </tr>\n",
       "    <tr>\n",
       "      <th>1994-01-10</th>\n",
       "      <td>3440.58</td>\n",
       "      <td>-0.156704</td>\n",
       "      <td>NaN</td>\n",
       "      <td>NaN</td>\n",
       "      <td>99.843296</td>\n",
       "    </tr>\n",
       "    <tr>\n",
       "      <th>1994-01-11</th>\n",
       "      <td>3413.77</td>\n",
       "      <td>-0.779229</td>\n",
       "      <td>-0.802111</td>\n",
       "      <td>-0.802083</td>\n",
       "      <td>99.065288</td>\n",
       "    </tr>\n",
       "    <tr>\n",
       "      <th>1994-01-12</th>\n",
       "      <td>3372.02</td>\n",
       "      <td>-1.222988</td>\n",
       "      <td>-1.269464</td>\n",
       "      <td>-1.268789</td>\n",
       "      <td>97.853731</td>\n",
       "    </tr>\n",
       "    <tr>\n",
       "      <th>1994-01-13</th>\n",
       "      <td>3360.01</td>\n",
       "      <td>-0.356166</td>\n",
       "      <td>-0.464780</td>\n",
       "      <td>-0.461319</td>\n",
       "      <td>97.505209</td>\n",
       "    </tr>\n",
       "  </tbody>\n",
       "</table>\n",
       "</div>"
      ],
      "text/plain": [
       "            marketValue   returns  resRetMA8  resRetMA6        norm\n",
       "date                                                               \n",
       "1994-01-07      3445.98       NaN        NaN        NaN  100.000000\n",
       "1994-01-10      3440.58 -0.156704        NaN        NaN   99.843296\n",
       "1994-01-11      3413.77 -0.779229  -0.802111  -0.802083   99.065288\n",
       "1994-01-12      3372.02 -1.222988  -1.269464  -1.268789   97.853731\n",
       "1994-01-13      3360.01 -0.356166  -0.464780  -0.461319   97.505209"
      ]
     },
     "execution_count": 114,
     "metadata": {},
     "output_type": "execute_result"
    }
   ],
   "source": [
    "benchmark = df.marketValue.iloc[0]\n",
    "\n",
    "df['norm'] = df.marketValue.div(benchmark).mul(100)\n",
    "df.head()"
   ]
  },
  {
   "cell_type": "code",
   "execution_count": 115,
   "id": "68ede7d6",
   "metadata": {},
   "outputs": [
    {
     "data": {
      "text/plain": [
       "(-1.9041551418836276,\n",
       " 0.33010893277031084,\n",
       " 6,\n",
       " 5014,\n",
       " {'1%': -3.4316548765428174,\n",
       "  '5%': -2.8621166146845334,\n",
       "  '10%': -2.5670769326348926},\n",
       " 19541.17381480549)"
      ]
     },
     "execution_count": 115,
     "metadata": {},
     "output_type": "execute_result"
    }
   ],
   "source": [
    "sts.adfuller(df['norm'])  # la serie no es estacionaria"
   ]
  },
  {
   "cell_type": "markdown",
   "id": "6c7caeae",
   "metadata": {},
   "source": [
    "La normalización de los datos no afecta la 'no estacionariedad' de la serie."
   ]
  },
  {
   "cell_type": "markdown",
   "id": "cfd32938",
   "metadata": {},
   "source": [
    "### Normalized Returns"
   ]
  },
  {
   "cell_type": "code",
   "execution_count": 116,
   "id": "c452185b",
   "metadata": {},
   "outputs": [],
   "source": [
    "bench_ret = df.returns.iloc[1]\n",
    "df['norm_ret']= df.returns.div(bench_ret).mul(100)"
   ]
  },
  {
   "cell_type": "code",
   "execution_count": 117,
   "id": "bd183f00",
   "metadata": {},
   "outputs": [
    {
     "data": {
      "text/html": [
       "<div>\n",
       "<style scoped>\n",
       "    .dataframe tbody tr th:only-of-type {\n",
       "        vertical-align: middle;\n",
       "    }\n",
       "\n",
       "    .dataframe tbody tr th {\n",
       "        vertical-align: top;\n",
       "    }\n",
       "\n",
       "    .dataframe thead th {\n",
       "        text-align: right;\n",
       "    }\n",
       "</style>\n",
       "<table border=\"1\" class=\"dataframe\">\n",
       "  <thead>\n",
       "    <tr style=\"text-align: right;\">\n",
       "      <th></th>\n",
       "      <th>marketValue</th>\n",
       "      <th>returns</th>\n",
       "      <th>resRetMA8</th>\n",
       "      <th>resRetMA6</th>\n",
       "      <th>norm</th>\n",
       "      <th>norm_ret</th>\n",
       "    </tr>\n",
       "    <tr>\n",
       "      <th>date</th>\n",
       "      <th></th>\n",
       "      <th></th>\n",
       "      <th></th>\n",
       "      <th></th>\n",
       "      <th></th>\n",
       "      <th></th>\n",
       "    </tr>\n",
       "  </thead>\n",
       "  <tbody>\n",
       "    <tr>\n",
       "      <th>1994-01-07</th>\n",
       "      <td>3445.98</td>\n",
       "      <td>NaN</td>\n",
       "      <td>NaN</td>\n",
       "      <td>NaN</td>\n",
       "      <td>100.000000</td>\n",
       "      <td>NaN</td>\n",
       "    </tr>\n",
       "    <tr>\n",
       "      <th>1994-01-10</th>\n",
       "      <td>3440.58</td>\n",
       "      <td>-0.156704</td>\n",
       "      <td>NaN</td>\n",
       "      <td>NaN</td>\n",
       "      <td>99.843296</td>\n",
       "      <td>100.000000</td>\n",
       "    </tr>\n",
       "    <tr>\n",
       "      <th>1994-01-11</th>\n",
       "      <td>3413.77</td>\n",
       "      <td>-0.779229</td>\n",
       "      <td>-0.802111</td>\n",
       "      <td>-0.802083</td>\n",
       "      <td>99.065288</td>\n",
       "      <td>497.260711</td>\n",
       "    </tr>\n",
       "    <tr>\n",
       "      <th>1994-01-12</th>\n",
       "      <td>3372.02</td>\n",
       "      <td>-1.222988</td>\n",
       "      <td>-1.269464</td>\n",
       "      <td>-1.268789</td>\n",
       "      <td>97.853731</td>\n",
       "      <td>780.443046</td>\n",
       "    </tr>\n",
       "    <tr>\n",
       "      <th>1994-01-13</th>\n",
       "      <td>3360.01</td>\n",
       "      <td>-0.356166</td>\n",
       "      <td>-0.464780</td>\n",
       "      <td>-0.461319</td>\n",
       "      <td>97.505209</td>\n",
       "      <td>227.285567</td>\n",
       "    </tr>\n",
       "  </tbody>\n",
       "</table>\n",
       "</div>"
      ],
      "text/plain": [
       "            marketValue   returns  resRetMA8  resRetMA6        norm  \\\n",
       "date                                                                  \n",
       "1994-01-07      3445.98       NaN        NaN        NaN  100.000000   \n",
       "1994-01-10      3440.58 -0.156704        NaN        NaN   99.843296   \n",
       "1994-01-11      3413.77 -0.779229  -0.802111  -0.802083   99.065288   \n",
       "1994-01-12      3372.02 -1.222988  -1.269464  -1.268789   97.853731   \n",
       "1994-01-13      3360.01 -0.356166  -0.464780  -0.461319   97.505209   \n",
       "\n",
       "              norm_ret  \n",
       "date                    \n",
       "1994-01-07         NaN  \n",
       "1994-01-10  100.000000  \n",
       "1994-01-11  497.260711  \n",
       "1994-01-12  780.443046  \n",
       "1994-01-13  227.285567  "
      ]
     },
     "execution_count": 117,
     "metadata": {},
     "output_type": "execute_result"
    }
   ],
   "source": [
    "df.head()"
   ]
  },
  {
   "cell_type": "code",
   "execution_count": 120,
   "id": "331f2616",
   "metadata": {},
   "outputs": [
    {
     "data": {
      "text/plain": [
       "(-12.77026571949723,\n",
       " 7.798058336038551e-24,\n",
       " 32,\n",
       " 4987,\n",
       " {'1%': -3.431661944885779,\n",
       "  '5%': -2.8621197374408225,\n",
       "  '10%': -2.5670785949998973},\n",
       " 80114.49116124898)"
      ]
     },
     "execution_count": 120,
     "metadata": {},
     "output_type": "execute_result"
    }
   ],
   "source": [
    "sts.adfuller(df.norm_ret[1:]) # la serie es estacionaria"
   ]
  },
  {
   "cell_type": "code",
   "execution_count": 121,
   "id": "dee6eea4",
   "metadata": {},
   "outputs": [
    {
     "data": {
      "image/png": "[encoded data removed]",
      "text/plain": [
       "<Figure size 432x288 with 1 Axes>"
      ]
     },
     "metadata": {
      "needs_background": "light"
     },
     "output_type": "display_data"
    }
   ],
   "source": [
    "sgt.plot_acf(df.norm_ret[1:], zero = False, lags = 40)\n",
    "plt.title(\"ACF for returns\")\n",
    "plt.show()"
   ]
  },
  {
   "cell_type": "code",
   "execution_count": 122,
   "id": "ebc09f9e",
   "metadata": {},
   "outputs": [
    {
     "data": {
      "text/html": [
       "<table class=\"simpletable\">\n",
       "<caption>ARMA Model Results</caption>\n",
       "<tr>\n",
       "  <th>Dep. Variable:</th>     <td>norm_ret</td>     <th>  No. Observations:  </th>    <td>5020</td>   \n",
       "</tr>\n",
       "<tr>\n",
       "  <th>Model:</th>            <td>ARMA(0, 8)</td>    <th>  Log Likelihood     </th> <td>-40307.597</td>\n",
       "</tr>\n",
       "<tr>\n",
       "  <th>Method:</th>             <td>css-mle</td>     <th>  S.D. of innovations</th>   <td>742.822</td> \n",
       "</tr>\n",
       "<tr>\n",
       "  <th>Date:</th>          <td>Mon, 17 Jan 2022</td> <th>  AIC                </th>  <td>80635.194</td>\n",
       "</tr>\n",
       "<tr>\n",
       "  <th>Time:</th>              <td>12:10:10</td>     <th>  BIC                </th>  <td>80700.406</td>\n",
       "</tr>\n",
       "<tr>\n",
       "  <th>Sample:</th>           <td>01-10-1994</td>    <th>  HQIC               </th>  <td>80658.045</td>\n",
       "</tr>\n",
       "<tr>\n",
       "  <th></th>                 <td>- 04-05-2013</td>   <th>                     </th>      <td> </td>    \n",
       "</tr>\n",
       "</table>\n",
       "<table class=\"simpletable\">\n",
       "<tr>\n",
       "         <td></td>           <th>coef</th>     <th>std err</th>      <th>z</th>      <th>P>|z|</th>  <th>[0.025</th>    <th>0.975]</th>  \n",
       "</tr>\n",
       "<tr>\n",
       "  <th>const</th>          <td>  -11.9731</td> <td>    8.846</td> <td>   -1.354</td> <td> 0.176</td> <td>  -29.310</td> <td>    5.364</td>\n",
       "</tr>\n",
       "<tr>\n",
       "  <th>ma.L1.norm_ret</th> <td>   -0.0238</td> <td>    0.014</td> <td>   -1.688</td> <td> 0.091</td> <td>   -0.051</td> <td>    0.004</td>\n",
       "</tr>\n",
       "<tr>\n",
       "  <th>ma.L2.norm_ret</th> <td>   -0.0495</td> <td>    0.014</td> <td>   -3.514</td> <td> 0.000</td> <td>   -0.077</td> <td>   -0.022</td>\n",
       "</tr>\n",
       "<tr>\n",
       "  <th>ma.L3.norm_ret</th> <td>   -0.0847</td> <td>    0.014</td> <td>   -5.993</td> <td> 0.000</td> <td>   -0.112</td> <td>   -0.057</td>\n",
       "</tr>\n",
       "<tr>\n",
       "  <th>ma.L4.norm_ret</th> <td>    0.0488</td> <td>    0.014</td> <td>    3.440</td> <td> 0.001</td> <td>    0.021</td> <td>    0.077</td>\n",
       "</tr>\n",
       "<tr>\n",
       "  <th>ma.L5.norm_ret</th> <td>   -0.0518</td> <td>    0.014</td> <td>   -3.634</td> <td> 0.000</td> <td>   -0.080</td> <td>   -0.024</td>\n",
       "</tr>\n",
       "<tr>\n",
       "  <th>ma.L6.norm_ret</th> <td>   -0.0402</td> <td>    0.014</td> <td>   -2.787</td> <td> 0.005</td> <td>   -0.068</td> <td>   -0.012</td>\n",
       "</tr>\n",
       "<tr>\n",
       "  <th>ma.L7.norm_ret</th> <td>    0.0084</td> <td>    0.014</td> <td>    0.587</td> <td> 0.557</td> <td>   -0.020</td> <td>    0.036</td>\n",
       "</tr>\n",
       "<tr>\n",
       "  <th>ma.L8.norm_ret</th> <td>    0.0366</td> <td>    0.014</td> <td>    2.626</td> <td> 0.009</td> <td>    0.009</td> <td>    0.064</td>\n",
       "</tr>\n",
       "</table>\n",
       "<table class=\"simpletable\">\n",
       "<caption>Roots</caption>\n",
       "<tr>\n",
       "    <td></td>   <th>            Real</th>  <th>         Imaginary</th> <th>         Modulus</th>  <th>        Frequency</th>\n",
       "</tr>\n",
       "<tr>\n",
       "  <th>MA.1</th> <td>           1.4716</td> <td>          -0.4282j</td> <td>           1.5326</td> <td>          -0.0451</td>\n",
       "</tr>\n",
       "<tr>\n",
       "  <th>MA.2</th> <td>           1.4716</td> <td>          +0.4282j</td> <td>           1.5326</td> <td>           0.0451</td>\n",
       "</tr>\n",
       "<tr>\n",
       "  <th>MA.3</th> <td>           0.5944</td> <td>          -1.3169j</td> <td>           1.4448</td> <td>          -0.1825</td>\n",
       "</tr>\n",
       "<tr>\n",
       "  <th>MA.4</th> <td>           0.5944</td> <td>          +1.3169j</td> <td>           1.4448</td> <td>           0.1825</td>\n",
       "</tr>\n",
       "<tr>\n",
       "  <th>MA.5</th> <td>          -0.7318</td> <td>          -1.2736j</td> <td>           1.4689</td> <td>          -0.3330</td>\n",
       "</tr>\n",
       "<tr>\n",
       "  <th>MA.6</th> <td>          -0.7318</td> <td>          +1.2736j</td> <td>           1.4689</td> <td>           0.3330</td>\n",
       "</tr>\n",
       "<tr>\n",
       "  <th>MA.7</th> <td>          -1.4485</td> <td>          -0.6983j</td> <td>           1.6081</td> <td>          -0.4285</td>\n",
       "</tr>\n",
       "<tr>\n",
       "  <th>MA.8</th> <td>          -1.4485</td> <td>          +0.6983j</td> <td>           1.6081</td> <td>           0.4285</td>\n",
       "</tr>\n",
       "</table>"
      ],
      "text/plain": [
       "<class 'statsmodels.iolib.summary.Summary'>\n",
       "\"\"\"\n",
       "                              ARMA Model Results                              \n",
       "==============================================================================\n",
       "Dep. Variable:               norm_ret   No. Observations:                 5020\n",
       "Model:                     ARMA(0, 8)   Log Likelihood              -40307.597\n",
       "Method:                       css-mle   S.D. of innovations            742.822\n",
       "Date:                Mon, 17 Jan 2022   AIC                          80635.194\n",
       "Time:                        12:10:10   BIC                          80700.406\n",
       "Sample:                    01-10-1994   HQIC                         80658.045\n",
       "                         - 04-05-2013                                         \n",
       "==================================================================================\n",
       "                     coef    std err          z      P>|z|      [0.025      0.975]\n",
       "----------------------------------------------------------------------------------\n",
       "const            -11.9731      8.846     -1.354      0.176     -29.310       5.364\n",
       "ma.L1.norm_ret    -0.0238      0.014     -1.688      0.091      -0.051       0.004\n",
       "ma.L2.norm_ret    -0.0495      0.014     -3.514      0.000      -0.077      -0.022\n",
       "ma.L3.norm_ret    -0.0847      0.014     -5.993      0.000      -0.112      -0.057\n",
       "ma.L4.norm_ret     0.0488      0.014      3.440      0.001       0.021       0.077\n",
       "ma.L5.norm_ret    -0.0518      0.014     -3.634      0.000      -0.080      -0.024\n",
       "ma.L6.norm_ret    -0.0402      0.014     -2.787      0.005      -0.068      -0.012\n",
       "ma.L7.norm_ret     0.0084      0.014      0.587      0.557      -0.020       0.036\n",
       "ma.L8.norm_ret     0.0366      0.014      2.626      0.009       0.009       0.064\n",
       "                                    Roots                                    \n",
       "=============================================================================\n",
       "                  Real          Imaginary           Modulus         Frequency\n",
       "-----------------------------------------------------------------------------\n",
       "MA.1            1.4716           -0.4282j            1.5326           -0.0451\n",
       "MA.2            1.4716           +0.4282j            1.5326            0.0451\n",
       "MA.3            0.5944           -1.3169j            1.4448           -0.1825\n",
       "MA.4            0.5944           +1.3169j            1.4448            0.1825\n",
       "MA.5           -0.7318           -1.2736j            1.4689           -0.3330\n",
       "MA.6           -0.7318           +1.2736j            1.4689            0.3330\n",
       "MA.7           -1.4485           -0.6983j            1.6081           -0.4285\n",
       "MA.8           -1.4485           +0.6983j            1.6081            0.4285\n",
       "-----------------------------------------------------------------------------\n",
       "\"\"\""
      ]
     },
     "execution_count": 122,
     "metadata": {},
     "output_type": "execute_result"
    }
   ],
   "source": [
    "model_norm_RetMA8 = ARMA(df.norm_ret[1:], order = (0,8)) # En order la ordenada indica los rezagos del error\n",
    "results_norm_RetMA8 = model_norm_RetMA8.fit()\n",
    "\n",
    "results_norm_RetMA8.summary()"
   ]
  },
  {
   "cell_type": "markdown",
   "id": "c3d95aff",
   "metadata": {},
   "source": [
    "La normalización no afecta la elección del Modelo"
   ]
  },
  {
   "cell_type": "code",
   "execution_count": 123,
   "id": "4efb4bd9",
   "metadata": {},
   "outputs": [],
   "source": [
    "df['res_norm_ret_ma_8'] = results_norm_RetMA8.resid[1:]"
   ]
  },
  {
   "cell_type": "code",
   "execution_count": 124,
   "id": "e60f4ea6",
   "metadata": {},
   "outputs": [
    {
     "data": {
      "text/plain": [
       "(-70.83576657581469,\n",
       " 0.0,\n",
       " 0,\n",
       " 5018,\n",
       " {'1%': -3.4316538358533277,\n",
       "  '5%': -2.8621161549128313,\n",
       "  '10%': -2.567076687880585},\n",
       " 80088.85897225564)"
      ]
     },
     "execution_count": 124,
     "metadata": {},
     "output_type": "execute_result"
    }
   ],
   "source": [
    "sts.adfuller(df.res_norm_ret_ma_8[2:])"
   ]
  },
  {
   "cell_type": "code",
   "execution_count": 130,
   "id": "213aef3b",
   "metadata": {},
   "outputs": [
    {
     "data": {
      "image/png": "[encoded data removed]",
      "text/plain": [
       "<Figure size 432x288 with 1 Axes>"
      ]
     },
     "metadata": {
      "needs_background": "light"
     },
     "output_type": "display_data"
    }
   ],
   "source": [
    "sgt.plot_acf(df.res_norm_ret_ma_8[2:], zero = False, lags = 40)\n",
    "plt.show()"
   ]
  },
  {
   "cell_type": "markdown",
   "id": "a441a978",
   "metadata": {},
   "source": [
    "# MA models for prices"
   ]
  },
  {
   "cell_type": "code",
   "execution_count": 131,
   "id": "73984d00",
   "metadata": {},
   "outputs": [
    {
     "data": {
      "image/png": "[encoded data removed]",
      "text/plain": [
       "<Figure size 432x288 with 1 Axes>"
      ]
     },
     "metadata": {
      "needs_background": "light"
     },
     "output_type": "display_data"
    }
   ],
   "source": [
    "sgt.plot_acf(df.marketValue, zero = False, lags = 40)\n",
    "plt.title(\"ACF for prices\", size = 20)\n",
    "plt.show()"
   ]
  },
  {
   "cell_type": "code",
   "execution_count": 133,
   "id": "57852167",
   "metadata": {},
   "outputs": [
    {
     "data": {
      "text/html": [
       "<table class=\"simpletable\">\n",
       "<caption>ARMA Model Results</caption>\n",
       "<tr>\n",
       "  <th>Dep. Variable:</th>    <td>marketValue</td>   <th>  No. Observations:  </th>    <td>5021</td>   \n",
       "</tr>\n",
       "<tr>\n",
       "  <th>Model:</th>            <td>ARMA(0, 1)</td>    <th>  Log Likelihood     </th> <td>-38629.000</td>\n",
       "</tr>\n",
       "<tr>\n",
       "  <th>Method:</th>             <td>css-mle</td>     <th>  S.D. of innovations</th>   <td>530.756</td> \n",
       "</tr>\n",
       "<tr>\n",
       "  <th>Date:</th>          <td>Mon, 17 Jan 2022</td> <th>  AIC                </th>  <td>77264.000</td>\n",
       "</tr>\n",
       "<tr>\n",
       "  <th>Time:</th>              <td>12:20:34</td>     <th>  BIC                </th>  <td>77283.564</td>\n",
       "</tr>\n",
       "<tr>\n",
       "  <th>Sample:</th>           <td>01-07-1994</td>    <th>  HQIC               </th>  <td>77270.856</td>\n",
       "</tr>\n",
       "<tr>\n",
       "  <th></th>                 <td>- 04-05-2013</td>   <th>                     </th>      <td> </td>    \n",
       "</tr>\n",
       "</table>\n",
       "<table class=\"simpletable\">\n",
       "<tr>\n",
       "          <td></td>             <th>coef</th>     <th>std err</th>      <th>z</th>      <th>P>|z|</th>  <th>[0.025</th>    <th>0.975]</th>  \n",
       "</tr>\n",
       "<tr>\n",
       "  <th>const</th>             <td> 5089.6995</td> <td>   14.660</td> <td>  347.194</td> <td> 0.000</td> <td> 5060.967</td> <td> 5118.432</td>\n",
       "</tr>\n",
       "<tr>\n",
       "  <th>ma.L1.marketValue</th> <td>    0.9573</td> <td>    0.003</td> <td>  335.556</td> <td> 0.000</td> <td>    0.952</td> <td>    0.963</td>\n",
       "</tr>\n",
       "</table>\n",
       "<table class=\"simpletable\">\n",
       "<caption>Roots</caption>\n",
       "<tr>\n",
       "    <td></td>   <th>            Real</th>  <th>         Imaginary</th> <th>         Modulus</th>  <th>        Frequency</th>\n",
       "</tr>\n",
       "<tr>\n",
       "  <th>MA.1</th> <td>          -1.0446</td> <td>          +0.0000j</td> <td>           1.0446</td> <td>           0.5000</td>\n",
       "</tr>\n",
       "</table>"
      ],
      "text/plain": [
       "<class 'statsmodels.iolib.summary.Summary'>\n",
       "\"\"\"\n",
       "                              ARMA Model Results                              \n",
       "==============================================================================\n",
       "Dep. Variable:            marketValue   No. Observations:                 5021\n",
       "Model:                     ARMA(0, 1)   Log Likelihood              -38629.000\n",
       "Method:                       css-mle   S.D. of innovations            530.756\n",
       "Date:                Mon, 17 Jan 2022   AIC                          77264.000\n",
       "Time:                        12:20:34   BIC                          77283.564\n",
       "Sample:                    01-07-1994   HQIC                         77270.856\n",
       "                         - 04-05-2013                                         \n",
       "=====================================================================================\n",
       "                        coef    std err          z      P>|z|      [0.025      0.975]\n",
       "-------------------------------------------------------------------------------------\n",
       "const              5089.6995     14.660    347.194      0.000    5060.967    5118.432\n",
       "ma.L1.marketValue     0.9573      0.003    335.556      0.000       0.952       0.963\n",
       "                                    Roots                                    \n",
       "=============================================================================\n",
       "                  Real          Imaginary           Modulus         Frequency\n",
       "-----------------------------------------------------------------------------\n",
       "MA.1           -1.0446           +0.0000j            1.0446            0.5000\n",
       "-----------------------------------------------------------------------------\n",
       "\"\"\""
      ]
     },
     "execution_count": 133,
     "metadata": {},
     "output_type": "execute_result"
    }
   ],
   "source": [
    "model_ma_1 = ARMA(df.marketValue, order = (0,1))\n",
    "results_ma_1 = model_ma_1.fit()\n",
    "results_ma_1.summary()"
   ]
  }
 ],
 "metadata": {
  "kernelspec": {
   "display_name": "Python 3",
   "language": "python",
   "name": "python3"
  },
  "language_info": {
   "codemirror_mode": {
    "name": "ipython",
    "version": 3
   },
   "file_extension": ".py",
   "mimetype": "text/x-python",
   "name": "python",
   "nbconvert_exporter": "python",
   "pygments_lexer": "ipython3",
   "version": "3.8.8"
  }
 },
 "nbformat": 4,
 "nbformat_minor": 5
}
